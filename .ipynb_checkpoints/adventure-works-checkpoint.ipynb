{
 "cells": [
  {
   "cell_type": "code",
   "execution_count": 103,
   "metadata": {},
   "outputs": [],
   "source": [
    "#importando as bibliotecas\n",
    "\n",
    "import pandas as pd\n",
    "import matplotlib.pyplot as plt\n",
    "import pandera as pa\n",
    "plt.style.use(\"seaborn\")"
   ]
  },
  {
   "cell_type": "code",
   "execution_count": 104,
   "metadata": {},
   "outputs": [],
   "source": [
    "#importando os datasets com tratamento de missing\n",
    "values= ['-','nan']\n",
    "df = pd.read_csv('metal_bands_2017.csv', encoding= 'unicode_escape',na_values=values)\n",
    "df.drop('Unnamed: 0',axis=1, inplace=True)\n",
    "df.drop_duplicates(inplace=True)"
   ]
  },
  {
   "cell_type": "code",
   "execution_count": 105,
   "metadata": {},
   "outputs": [
    {
     "data": {
      "text/html": [
       "<div>\n",
       "<style scoped>\n",
       "    .dataframe tbody tr th:only-of-type {\n",
       "        vertical-align: middle;\n",
       "    }\n",
       "\n",
       "    .dataframe tbody tr th {\n",
       "        vertical-align: top;\n",
       "    }\n",
       "\n",
       "    .dataframe thead th {\n",
       "        text-align: right;\n",
       "    }\n",
       "</style>\n",
       "<table border=\"1\" class=\"dataframe\">\n",
       "  <thead>\n",
       "    <tr style=\"text-align: right;\">\n",
       "      <th></th>\n",
       "      <th>band_name</th>\n",
       "      <th>fans</th>\n",
       "      <th>formed</th>\n",
       "      <th>origin</th>\n",
       "      <th>split</th>\n",
       "      <th>style</th>\n",
       "    </tr>\n",
       "  </thead>\n",
       "  <tbody>\n",
       "    <tr>\n",
       "      <th>0</th>\n",
       "      <td>Iron Maiden</td>\n",
       "      <td>4195</td>\n",
       "      <td>1975.0</td>\n",
       "      <td>United Kingdom</td>\n",
       "      <td>NaN</td>\n",
       "      <td>New wave of british heavy,Heavy</td>\n",
       "    </tr>\n",
       "    <tr>\n",
       "      <th>1</th>\n",
       "      <td>Opeth</td>\n",
       "      <td>4147</td>\n",
       "      <td>1990.0</td>\n",
       "      <td>Sweden</td>\n",
       "      <td>1990.0</td>\n",
       "      <td>Extreme progressive,Progressive rock,Progressive</td>\n",
       "    </tr>\n",
       "    <tr>\n",
       "      <th>2</th>\n",
       "      <td>Metallica</td>\n",
       "      <td>3712</td>\n",
       "      <td>1981.0</td>\n",
       "      <td>USA</td>\n",
       "      <td>NaN</td>\n",
       "      <td>Heavy,Bay area thrash</td>\n",
       "    </tr>\n",
       "    <tr>\n",
       "      <th>3</th>\n",
       "      <td>Megadeth</td>\n",
       "      <td>3105</td>\n",
       "      <td>1983.0</td>\n",
       "      <td>USA</td>\n",
       "      <td>1983.0</td>\n",
       "      <td>Thrash,Heavy,Hard rock</td>\n",
       "    </tr>\n",
       "    <tr>\n",
       "      <th>4</th>\n",
       "      <td>Amon Amarth</td>\n",
       "      <td>3054</td>\n",
       "      <td>1988.0</td>\n",
       "      <td>Sweden</td>\n",
       "      <td>NaN</td>\n",
       "      <td>Melodic death</td>\n",
       "    </tr>\n",
       "    <tr>\n",
       "      <th>...</th>\n",
       "      <td>...</td>\n",
       "      <td>...</td>\n",
       "      <td>...</td>\n",
       "      <td>...</td>\n",
       "      <td>...</td>\n",
       "      <td>...</td>\n",
       "    </tr>\n",
       "    <tr>\n",
       "      <th>4995</th>\n",
       "      <td>Atara</td>\n",
       "      <td>0</td>\n",
       "      <td>2006.0</td>\n",
       "      <td>France</td>\n",
       "      <td>2006.0</td>\n",
       "      <td>Black,Grindcore</td>\n",
       "    </tr>\n",
       "    <tr>\n",
       "      <th>4996</th>\n",
       "      <td>Avicularia</td>\n",
       "      <td>0</td>\n",
       "      <td>2003.0</td>\n",
       "      <td>Croatia</td>\n",
       "      <td>NaN</td>\n",
       "      <td>Avantgarde death</td>\n",
       "    </tr>\n",
       "    <tr>\n",
       "      <th>4997</th>\n",
       "      <td>Awake</td>\n",
       "      <td>0</td>\n",
       "      <td>2006.0</td>\n",
       "      <td>United Kingdom</td>\n",
       "      <td>2006.0</td>\n",
       "      <td>Heavy,Progressive</td>\n",
       "    </tr>\n",
       "    <tr>\n",
       "      <th>4998</th>\n",
       "      <td>Axatak</td>\n",
       "      <td>0</td>\n",
       "      <td>1983.0</td>\n",
       "      <td>Australia</td>\n",
       "      <td>1988.0</td>\n",
       "      <td>Hard rock,Heavy</td>\n",
       "    </tr>\n",
       "    <tr>\n",
       "      <th>4999</th>\n",
       "      <td>Axis Of Despair</td>\n",
       "      <td>0</td>\n",
       "      <td>2014.0</td>\n",
       "      <td>Sweden</td>\n",
       "      <td>2014.0</td>\n",
       "      <td>Grindcore</td>\n",
       "    </tr>\n",
       "  </tbody>\n",
       "</table>\n",
       "<p>4950 rows × 6 columns</p>\n",
       "</div>"
      ],
      "text/plain": [
       "            band_name  fans  formed          origin   split  \\\n",
       "0         Iron Maiden  4195  1975.0  United Kingdom     NaN   \n",
       "1               Opeth  4147  1990.0          Sweden  1990.0   \n",
       "2           Metallica  3712  1981.0             USA     NaN   \n",
       "3            Megadeth  3105  1983.0             USA  1983.0   \n",
       "4         Amon Amarth  3054  1988.0          Sweden     NaN   \n",
       "...               ...   ...     ...             ...     ...   \n",
       "4995            Atara     0  2006.0          France  2006.0   \n",
       "4996       Avicularia     0  2003.0         Croatia     NaN   \n",
       "4997            Awake     0  2006.0  United Kingdom  2006.0   \n",
       "4998           Axatak     0  1983.0       Australia  1988.0   \n",
       "4999  Axis Of Despair     0  2014.0          Sweden  2014.0   \n",
       "\n",
       "                                                 style  \n",
       "0                      New wave of british heavy,Heavy  \n",
       "1     Extreme progressive,Progressive rock,Progressive  \n",
       "2                                Heavy,Bay area thrash  \n",
       "3                               Thrash,Heavy,Hard rock  \n",
       "4                                        Melodic death  \n",
       "...                                                ...  \n",
       "4995                                   Black,Grindcore  \n",
       "4996                                  Avantgarde death  \n",
       "4997                                 Heavy,Progressive  \n",
       "4998                                   Hard rock,Heavy  \n",
       "4999                                         Grindcore  \n",
       "\n",
       "[4950 rows x 6 columns]"
      ]
     },
     "execution_count": 105,
     "metadata": {},
     "output_type": "execute_result"
    }
   ],
   "source": [
    "#Faz a validação dos dados\n",
    "\n",
    "schema = pa.DataFrameSchema(\n",
    "    columns = {\n",
    "        \"band_name\": pa.Column(pa.String),\n",
    "        \"fans\": pa.Column(pa.Int),\n",
    "        \"formed\": pa.Column(pa.Float, nullable=True),\n",
    "        \"origin\": pa.Column(pa.String, nullable=True),\n",
    "        \"split\": pa.Column(pa.Float, nullable=True),\n",
    "        \"style\": pa.Column(pa.String)\n",
    "    }\n",
    ")\n",
    "\n",
    "schema.validate(df)"
   ]
  },
  {
   "cell_type": "code",
   "execution_count": 106,
   "metadata": {},
   "outputs": [
    {
     "data": {
      "text/plain": [
       "(4950, 6)"
      ]
     },
     "execution_count": 106,
     "metadata": {},
     "output_type": "execute_result"
    }
   ],
   "source": [
    "#mostra a quantidade de linhas e colunas\n",
    "df.shape"
   ]
  },
  {
   "cell_type": "code",
   "execution_count": 117,
   "metadata": {},
   "outputs": [
    {
     "data": {
      "text/plain": [
       "58"
      ]
     },
     "execution_count": 117,
     "metadata": {},
     "output_type": "execute_result"
    }
   ],
   "source": [
    "#Quantidade de bandas de metal no Brasil\n",
    "df.loc[df['origin']=='Brazil'].band_name.count()"
   ]
  },
  {
   "cell_type": "code",
   "execution_count": 118,
   "metadata": {},
   "outputs": [
    {
     "data": {
      "text/plain": [
       "25"
      ]
     },
     "execution_count": 118,
     "metadata": {},
     "output_type": "execute_result"
    }
   ],
   "source": [
    "#Quantidades de bandas de metal ativas no brasil\n",
    "df.loc[df['origin']=='Brazil'].split.isna().sum()"
   ]
  }
 ],
 "metadata": {
  "kernelspec": {
   "display_name": "Python 3",
   "language": "python",
   "name": "python3"
  },
  "language_info": {
   "codemirror_mode": {
    "name": "ipython",
    "version": 3
   },
   "file_extension": ".py",
   "mimetype": "text/x-python",
   "name": "python",
   "nbconvert_exporter": "python",
   "pygments_lexer": "ipython3",
   "version": "3.8.5"
  }
 },
 "nbformat": 4,
 "nbformat_minor": 4
}
